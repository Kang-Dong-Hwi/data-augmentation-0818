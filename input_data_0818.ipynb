{
 "cells": [
  {
   "cell_type": "code",
   "execution_count": 4,
   "metadata": {},
   "outputs": [
    {
     "name": "stdout",
     "output_type": "stream",
     "text": [
      "Current cuda device  4\n"
     ]
    }
   ],
   "source": [
    "import torch\n",
    "import os\n",
    "\n",
    "\n",
    "\n",
    "\n",
    "# GPU 할당 변경하기\n",
    "GPU_NUM = 4  # 원하는 GPU 번호 입력\n",
    "device = torch.device(f'cuda:{GPU_NUM}' if torch.cuda.is_available() else 'cpu')\n",
    "\n",
    "torch.cuda.set_device(device) # change allocation of current GPU\n",
    "print ('Current cuda device ', torch.cuda.current_device()) # check\n",
    "\n"
   ]
  },
  {
   "cell_type": "code",
   "execution_count": 5,
   "metadata": {},
   "outputs": [],
   "source": [
    "import torch\n",
    "import os\n",
    "\n",
    "import numpy as np\n",
    "import torch.nn as nn\n",
    "import matplotlib.pyplot as plt\n",
    "\n",
    "from sklearn.preprocessing import StandardScaler\n",
    "\n",
    "path = '../data/'"
   ]
  },
  {
   "cell_type": "code",
   "execution_count": 6,
   "metadata": {},
   "outputs": [],
   "source": [
    "\n",
    "def dB( magnitude ):\n",
    "\n",
    "    eps = torch.finfo(float).eps\n",
    "    decibel = 20*torch.log10( torch.abs(magnitude) + eps )\n",
    "    return decibel\n",
    "\n",
    "\n",
    "\n",
    "\n",
    "def scaler( L, R ):\n",
    "    \n",
    "    LR = torch.cat( [L,R], dim=0 )\n",
    "    LR_cpu = LR.to('cpu')\n",
    "    LR_npy = np.asarray(LR_cpu)\n",
    "    \n",
    "    z = StandardScaler().fit_transform(LR_npy[:])\n",
    "    z = torch.as_tensor(z).to('cuda')\n",
    "    z = z.reshape(2, 257, 382)\n",
    "\n",
    "    return z[0], z[1]\n",
    "\n",
    "\n",
    "\n",
    "\n",
    "def angle_to_digit( y_data ):\n",
    "    \n",
    "    for idx in range(y_data.shape[0]):\n",
    "        \n",
    "        y = y_data[idx]\n",
    "        if y<0: y_data[idx] = 10\n",
    "        else:   y_data[idx] = ( y//20 )\n",
    "    \n",
    "    return y_data\n"
   ]
  },
  {
   "cell_type": "code",
   "execution_count": 7,
   "metadata": {},
   "outputs": [],
   "source": [
    "x_data = ['S_left_pt.pt', 'S_right_pt.pt',\n",
    "          'S_left_phase_pt.pt','S_right_phase_pt.pt',\n",
    "          'strchd_left.pt', 'strchd_right.pt',\n",
    "          'strchd_left_phase.pt','strchd_right_phase.pt']\n",
    "\n",
    "y_data = np.load(path+ 'angle.npy')\n",
    "y_data = np.concatenate((y_data, y_data), 0)\n",
    "\n",
    "\n",
    "\n",
    "S_left_1  = torch.load( path + x_data[0] ).to('cuda:5')\n",
    "S_right_1 = torch.load( path + x_data[1] ).to('cuda:5')\n",
    "S_left_phase_1  = torch.load( path + x_data[2] ).to('cuda:6')\n",
    "S_right_phase_1 = torch.load( path + x_data[3] ).to('cuda:6')\n",
    "\n",
    "S_left_2  = torch.load( path + x_data[4] ).to('cuda:5')\n",
    "S_right_2 = torch.load( path + x_data[5] ).to('cuda:5')\n",
    "S_left_phase_2  = torch.load( path + x_data[6] ).to('cuda:6')\n",
    "S_right_phase_2 = torch.load( path + x_data[7] ).to('cuda:6')\n",
    "\n",
    "\n",
    "S_left  = torch.cat([S_left_1,  S_left_2],  dim=0).to('cuda:5')\n",
    "S_right = torch.cat([S_right_1, S_right_2], dim=0).to('cuda:5')\n",
    "S_left_phase  = torch.cat([S_left_phase_1,  S_left_phase_2],  dim=0).to('cuda:6')\n",
    "S_right_phase = torch.cat([S_right_phase_1, S_right_phase_2], dim=0).to('cuda:6')\n"
   ]
  },
  {
   "cell_type": "code",
   "execution_count": 8,
   "metadata": {},
   "outputs": [
    {
     "name": "stdout",
     "output_type": "stream",
     "text": [
      "torch.Size([2000, 257, 382])\n",
      "(2000, 1)\n"
     ]
    }
   ],
   "source": [
    "print(S_left.shape)\n",
    "print(y_data.shape)"
   ]
  },
  {
   "cell_type": "code",
   "execution_count": 9,
   "metadata": {},
   "outputs": [],
   "source": [
    "\n",
    "x_data_cuda4 = torch.empty([1,4,257,382]).to('cuda:4')\n",
    "for idx in range( 1000 ):\n",
    "    \n",
    "    \n",
    "    mag_L = S_left[idx,:,:]\n",
    "    mag_R = S_right[idx,:,:]\n",
    "    phi_L = S_left_phase[idx,:,:]\n",
    "    phi_R = S_right_phase[idx,:,:]\n",
    "\n",
    "\n",
    "    \"\"\"log[dB] scale\"\"\"\n",
    "    log_L = dB( mag_L )\n",
    "    log_R = dB( mag_R )\n",
    "\n",
    "\n",
    "    \"\"\"정규화\"\"\"\n",
    "    #z_mag = scaler( mag_L, mag_R )\n",
    "    z_mag = scaler( log_L, log_R )\n",
    "    z_phi = scaler( phi_L, phi_R )\n",
    "    \n",
    "    \n",
    "    x_left_mag ,  x_right_mag   =  z_mag\n",
    "    x_left_phase, x_right_phase =  z_phi\n",
    "    \n",
    "    \n",
    "    xl_m = x_left_mag.reshape(1,257,382)\n",
    "    xl_p = x_left_phase.reshape(1,257,382)\n",
    "    xr_m = x_right_mag.reshape(1,257,382)\n",
    "    xr_p = x_right_phase.reshape(1,257,382)\n",
    "    \n",
    "    x_element = torch.cat([ xl_m, xr_m, xl_p, xr_p ], dim=0).to('cuda:4')\n",
    "    x_element = x_element.reshape(1, 4, 257, 382)\n",
    "    #(1, 4, 257, 382)\n",
    " \n",
    "    \n",
    "    x_data_cuda4 = torch.cat([x_data_cuda4, x_element], dim=0).to('cuda:4')\n",
    "\n",
    "x_data_cuda4 = x_data_cuda4[1:]\n",
    "\n"
   ]
  },
  {
   "cell_type": "code",
   "execution_count": 10,
   "metadata": {},
   "outputs": [],
   "source": [
    "\n",
    "x_data_cuda7 = torch.empty([1,4,257,382]).to('cuda:7')\n",
    "for idx in range( 1000,2000 ):\n",
    "    \n",
    "    \n",
    "    mag_L = S_left[idx,:,:]\n",
    "    mag_R = S_right[idx,:,:]\n",
    "    phi_L = S_left_phase[idx,:,:]\n",
    "    phi_R = S_right_phase[idx,:,:]\n",
    "\n",
    "\n",
    "    \"\"\"log[dB] scale\"\"\"\n",
    "    log_L = dB( mag_L )\n",
    "    log_R = dB( mag_R )\n",
    "\n",
    "\n",
    "    \"\"\"정규화\"\"\"\n",
    "    #z_mag = scaler( mag_L, mag_R )\n",
    "    z_mag = scaler( log_L, log_R )\n",
    "    z_phi = scaler( phi_L, phi_R )\n",
    "    \n",
    "    \n",
    "    x_left_mag ,  x_right_mag   =  z_mag\n",
    "    x_left_phase, x_right_phase =  z_phi\n",
    "    \n",
    "    \n",
    "    xl_m = x_left_mag.reshape(1,257,382)\n",
    "    xl_p = x_left_phase.reshape(1,257,382)\n",
    "    xr_m = x_right_mag.reshape(1,257,382)\n",
    "    xr_p = x_right_phase.reshape(1,257,382)\n",
    "    \n",
    "    x_element = torch.cat([ xl_m, xr_m, xl_p, xr_p ], dim=0).to('cuda:7')\n",
    "    x_element = x_element.reshape(1, 4, 257, 382)\n",
    "    #(1, 4, 257, 382)\n",
    " \n",
    "    \n",
    "    x_data_cuda7 = torch.cat([x_data_cuda7, x_element], dim=0).to('cuda:7')\n",
    "\n",
    "x_data_cuda7 = x_data_cuda7[1:]\n",
    "\n"
   ]
  },
  {
   "cell_type": "code",
   "execution_count": 11,
   "metadata": {},
   "outputs": [],
   "source": [
    "x_data1 = x_data_cuda4.to('cpu')\n",
    "x_data2 = x_data_cuda7.to('cpu')\n",
    "\n",
    "x_data = torch.cat([x_data1, x_data2], dim=0).to('cpu')\n",
    "y_data = torch.as_tensor( angle_to_digit(y_data) ).reshape(1000*2,)"
   ]
  },
  {
   "cell_type": "code",
   "execution_count": 12,
   "metadata": {},
   "outputs": [
    {
     "name": "stdout",
     "output_type": "stream",
     "text": [
      "torch.Size([2000, 4, 257, 382])\n",
      "torch.Size([2000])\n"
     ]
    }
   ],
   "source": [
    "print(x_data.shape)\n",
    "print(y_data.shape)"
   ]
  },
  {
   "cell_type": "code",
   "execution_count": 13,
   "metadata": {},
   "outputs": [],
   "source": [
    "torch.save( x_data, '0818data.pt' )\n",
    "torch.save( y_data, '0818label.pt')"
   ]
  },
  {
   "cell_type": "code",
   "execution_count": null,
   "metadata": {},
   "outputs": [],
   "source": []
  }
 ],
 "metadata": {
  "kernelspec": {
   "display_name": "Python 3",
   "language": "python",
   "name": "python3"
  },
  "language_info": {
   "codemirror_mode": {
    "name": "ipython",
    "version": 3
   },
   "file_extension": ".py",
   "mimetype": "text/x-python",
   "name": "python",
   "nbconvert_exporter": "python",
   "pygments_lexer": "ipython3",
   "version": "3.7.7"
  }
 },
 "nbformat": 4,
 "nbformat_minor": 4
}
